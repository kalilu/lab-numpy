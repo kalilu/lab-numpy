{
 "cells": [
  {
   "cell_type": "markdown",
   "metadata": {},
   "source": [
    "# Intrduction to NumPy\n",
    "\n",
    "\n",
    "#### 1. Import NumPy under the name np."
   ]
  },
  {
   "cell_type": "code",
   "execution_count": 1,
   "metadata": {
    "ExecuteTime": {
     "end_time": "2020-01-26T11:05:30.549577Z",
     "start_time": "2020-01-26T11:05:30.542066Z"
    }
   },
   "outputs": [],
   "source": [
    "# your code here\n",
    "import numpy as np"
   ]
  },
  {
   "cell_type": "markdown",
   "metadata": {},
   "source": [
    "#### 2. Print your NumPy version."
   ]
  },
  {
   "cell_type": "code",
   "execution_count": 3,
   "metadata": {
    "ExecuteTime": {
     "end_time": "2020-01-26T11:05:41.857464Z",
     "start_time": "2020-01-26T11:05:41.838605Z"
    }
   },
   "outputs": [
    {
     "data": {
      "text/plain": [
       "'1.15.4'"
      ]
     },
     "execution_count": 3,
     "metadata": {},
     "output_type": "execute_result"
    }
   ],
   "source": [
    "# your code here\n",
    "np.version.version"
   ]
  },
  {
   "cell_type": "markdown",
   "metadata": {},
   "source": [
    "#### 3. Generate a 2x3x5 3-dimensional array with random values. Assign the array to variable *a*.\n",
    "**Challenge**: there are at least three easy ways that use numpy to generate random arrays. How many ways can you find?"
   ]
  },
  {
   "cell_type": "code",
   "execution_count": 4,
   "metadata": {
    "ExecuteTime": {
     "end_time": "2020-01-26T11:08:20.747996Z",
     "start_time": "2020-01-26T11:08:20.732556Z"
    }
   },
   "outputs": [
    {
     "name": "stdout",
     "output_type": "stream",
     "text": [
      "[[[0.72591478 0.53051499 0.77024744 0.92795827 0.28020673]\n",
      "  [0.66111979 0.01522707 0.81378396 0.26280363 0.38071257]\n",
      "  [0.95976374 0.63576193 0.05982702 0.99605533 0.62977478]]\n",
      "\n",
      " [[0.51982144 0.62253708 0.31109522 0.70165911 0.7462188 ]\n",
      "  [0.85004356 0.44035707 0.12592238 0.50079584 0.3916472 ]\n",
      "  [0.36495834 0.06528098 0.23007851 0.74015572 0.28287286]]]\n"
     ]
    }
   ],
   "source": [
    "# Method 1\n",
    "a=np.random.random((2,3,5))\n",
    "print(a)"
   ]
  },
  {
   "cell_type": "code",
   "execution_count": 8,
   "metadata": {
    "ExecuteTime": {
     "end_time": "2020-01-26T12:40:06.443453Z",
     "start_time": "2020-01-26T12:40:06.430568Z"
    }
   },
   "outputs": [
    {
     "name": "stdout",
     "output_type": "stream",
     "text": [
      "[[[0.72787255 0.60704392 0.82082419 0.68767505 0.08714395]\n",
      "  [0.29901121 0.09278887 0.48746121 0.28591475 0.32077626]\n",
      "  [0.19270598 0.17989001 0.11391456 0.38794942 0.14746239]]\n",
      "\n",
      " [[0.1506018  0.07436585 0.2825129  0.71700608 0.83174378]\n",
      "  [0.95236213 0.98575676 0.77526941 0.48330702 0.55302035]\n",
      "  [0.26194092 0.85487652 0.46369056 0.90302794 0.96035886]]]\n"
     ]
    }
   ],
   "source": [
    "# Method 2\n",
    "a=np.random.rand(2,3,5)\n",
    "print(a)"
   ]
  },
  {
   "cell_type": "code",
   "execution_count": 16,
   "metadata": {
    "ExecuteTime": {
     "end_time": "2020-01-26T12:53:47.584157Z",
     "start_time": "2020-01-26T12:53:47.579258Z"
    }
   },
   "outputs": [],
   "source": [
    "# Method 3\n",
    "a=np.random.random(30).reshape(2,3,5)"
   ]
  },
  {
   "cell_type": "markdown",
   "metadata": {},
   "source": [
    "#### 4. Print *a*.\n"
   ]
  },
  {
   "cell_type": "code",
   "execution_count": 17,
   "metadata": {
    "ExecuteTime": {
     "end_time": "2020-01-26T12:53:49.500402Z",
     "start_time": "2020-01-26T12:53:49.492918Z"
    }
   },
   "outputs": [
    {
     "name": "stdout",
     "output_type": "stream",
     "text": [
      "[[[0.42795812 0.03763864 0.38003601 0.92157892 0.76976673]\n",
      "  [0.69752361 0.0445142  0.04856331 0.68484853 0.22284287]\n",
      "  [0.33983187 0.13100526 0.64201649 0.25433635 0.37794724]]\n",
      "\n",
      " [[0.91126348 0.97242905 0.53377144 0.05769512 0.44165983]\n",
      "  [0.99993925 0.14445463 0.06038531 0.66664041 0.84209669]\n",
      "  [0.8647306  0.21836539 0.11375887 0.35736477 0.70996019]]]\n"
     ]
    }
   ],
   "source": [
    "# your code here\n",
    "print(a)"
   ]
  },
  {
   "cell_type": "markdown",
   "metadata": {},
   "source": [
    "#### 5. Create a 5x2x3 3-dimensional array with all values equaling 1. Assign the array to variable *b*."
   ]
  },
  {
   "cell_type": "code",
   "execution_count": 30,
   "metadata": {
    "ExecuteTime": {
     "end_time": "2020-01-26T13:11:43.233776Z",
     "start_time": "2020-01-26T13:11:43.225965Z"
    }
   },
   "outputs": [],
   "source": [
    "# your code here\n",
    "b=np.ones((5,2,3))"
   ]
  },
  {
   "cell_type": "markdown",
   "metadata": {},
   "source": [
    "#### 6. Print *b*.\n"
   ]
  },
  {
   "cell_type": "code",
   "execution_count": 31,
   "metadata": {
    "ExecuteTime": {
     "end_time": "2020-01-26T13:11:44.685619Z",
     "start_time": "2020-01-26T13:11:44.679232Z"
    }
   },
   "outputs": [
    {
     "name": "stdout",
     "output_type": "stream",
     "text": [
      "[[[1. 1. 1.]\n",
      "  [1. 1. 1.]]\n",
      "\n",
      " [[1. 1. 1.]\n",
      "  [1. 1. 1.]]\n",
      "\n",
      " [[1. 1. 1.]\n",
      "  [1. 1. 1.]]\n",
      "\n",
      " [[1. 1. 1.]\n",
      "  [1. 1. 1.]]\n",
      "\n",
      " [[1. 1. 1.]\n",
      "  [1. 1. 1.]]]\n"
     ]
    }
   ],
   "source": [
    "# your code here\n",
    "print(b)"
   ]
  },
  {
   "cell_type": "markdown",
   "metadata": {},
   "source": [
    "#### 7. Do *a* and *b* have the same size? How do you prove that in Python code?"
   ]
  },
  {
   "cell_type": "code",
   "execution_count": 19,
   "metadata": {
    "ExecuteTime": {
     "end_time": "2020-01-26T12:55:48.918567Z",
     "start_time": "2020-01-26T12:55:48.913000Z"
    }
   },
   "outputs": [
    {
     "name": "stdout",
     "output_type": "stream",
     "text": [
      "True\n"
     ]
    }
   ],
   "source": [
    "# your code here\n",
    "print(a.size==b.size)"
   ]
  },
  {
   "cell_type": "markdown",
   "metadata": {},
   "source": [
    "#### 8. Are you able to add *a* and *b*? Why or why not?\n"
   ]
  },
  {
   "cell_type": "code",
   "execution_count": 20,
   "metadata": {
    "ExecuteTime": {
     "end_time": "2020-01-26T12:56:08.619526Z",
     "start_time": "2020-01-26T12:56:08.603185Z"
    }
   },
   "outputs": [
    {
     "ename": "ValueError",
     "evalue": "operands could not be broadcast together with shapes (2,3,5) (5,2,3) ",
     "output_type": "error",
     "traceback": [
      "\u001b[1;31m---------------------------------------------------------------------------\u001b[0m",
      "\u001b[1;31mValueError\u001b[0m                                Traceback (most recent call last)",
      "\u001b[1;32m<ipython-input-20-1a656e0214a4>\u001b[0m in \u001b[0;36m<module>\u001b[1;34m\u001b[0m\n\u001b[0;32m      1\u001b[0m \u001b[1;31m# your answer here\u001b[0m\u001b[1;33m\u001b[0m\u001b[1;33m\u001b[0m\u001b[1;33m\u001b[0m\u001b[0m\n\u001b[1;32m----> 2\u001b[1;33m \u001b[0mprint\u001b[0m\u001b[1;33m(\u001b[0m\u001b[0ma\u001b[0m\u001b[1;33m+\u001b[0m\u001b[0mb\u001b[0m\u001b[1;33m)\u001b[0m\u001b[1;33m\u001b[0m\u001b[1;33m\u001b[0m\u001b[0m\n\u001b[0m",
      "\u001b[1;31mValueError\u001b[0m: operands could not be broadcast together with shapes (2,3,5) (5,2,3) "
     ]
    }
   ],
   "source": [
    "# your answer here\n",
    "print(a+b)\n",
    "#No porque no tienen las mismas dimensiones"
   ]
  },
  {
   "cell_type": "markdown",
   "metadata": {},
   "source": [
    "#### 9. Transpose *b* so that it has the same structure of *a* (i.e. become a 2x3x5 array). Assign the transposed array to variable *c*."
   ]
  },
  {
   "cell_type": "code",
   "execution_count": 48,
   "metadata": {
    "ExecuteTime": {
     "end_time": "2020-01-26T13:22:08.812414Z",
     "start_time": "2020-01-26T13:22:08.803883Z"
    }
   },
   "outputs": [
    {
     "name": "stdout",
     "output_type": "stream",
     "text": [
      "[[[1. 1. 1. 1. 1.]\n",
      "  [1. 1. 1. 1. 1.]\n",
      "  [1. 1. 1. 1. 1.]]\n",
      "\n",
      " [[1. 1. 1. 1. 1.]\n",
      "  [1. 1. 1. 1. 1.]\n",
      "  [1. 1. 1. 1. 1.]]]\n"
     ]
    }
   ],
   "source": [
    "# your code here\n",
    "c=np.moveaxis(b,0,-1)\n",
    "print(c)"
   ]
  },
  {
   "cell_type": "markdown",
   "metadata": {},
   "source": [
    "#### 10. Try to add *a* and *c*. Now it should work. Assign the sum to variable *d*. But why does it work now?"
   ]
  },
  {
   "cell_type": "code",
   "execution_count": 51,
   "metadata": {
    "ExecuteTime": {
     "end_time": "2020-01-26T13:23:46.118472Z",
     "start_time": "2020-01-26T13:23:46.104770Z"
    }
   },
   "outputs": [
    {
     "name": "stdout",
     "output_type": "stream",
     "text": [
      "[[[1.42795812 1.03763864 1.38003601 1.92157892 1.76976673]\n",
      "  [1.69752361 1.0445142  1.04856331 1.68484853 1.22284287]\n",
      "  [1.33983187 1.13100526 1.64201649 1.25433635 1.37794724]]\n",
      "\n",
      " [[1.91126348 1.97242905 1.53377144 1.05769512 1.44165983]\n",
      "  [1.99993925 1.14445463 1.06038531 1.66664041 1.84209669]\n",
      "  [1.8647306  1.21836539 1.11375887 1.35736477 1.70996019]]]\n"
     ]
    }
   ],
   "source": [
    "# your code/answer here\n",
    "d=a+c\n",
    "print(d)"
   ]
  },
  {
   "cell_type": "markdown",
   "metadata": {},
   "source": [
    "#### 11. Print *a* and *d*. Notice the difference and relation of the two array in terms of the values? Explain."
   ]
  },
  {
   "cell_type": "code",
   "execution_count": 52,
   "metadata": {
    "ExecuteTime": {
     "end_time": "2020-01-26T13:24:14.244548Z",
     "start_time": "2020-01-26T13:24:14.237015Z"
    }
   },
   "outputs": [
    {
     "name": "stdout",
     "output_type": "stream",
     "text": [
      "[[[0.42795812 0.03763864 0.38003601 0.92157892 0.76976673]\n",
      "  [0.69752361 0.0445142  0.04856331 0.68484853 0.22284287]\n",
      "  [0.33983187 0.13100526 0.64201649 0.25433635 0.37794724]]\n",
      "\n",
      " [[0.91126348 0.97242905 0.53377144 0.05769512 0.44165983]\n",
      "  [0.99993925 0.14445463 0.06038531 0.66664041 0.84209669]\n",
      "  [0.8647306  0.21836539 0.11375887 0.35736477 0.70996019]]]\n",
      "[[[1.42795812 1.03763864 1.38003601 1.92157892 1.76976673]\n",
      "  [1.69752361 1.0445142  1.04856331 1.68484853 1.22284287]\n",
      "  [1.33983187 1.13100526 1.64201649 1.25433635 1.37794724]]\n",
      "\n",
      " [[1.91126348 1.97242905 1.53377144 1.05769512 1.44165983]\n",
      "  [1.99993925 1.14445463 1.06038531 1.66664041 1.84209669]\n",
      "  [1.8647306  1.21836539 1.11375887 1.35736477 1.70996019]]]\n"
     ]
    }
   ],
   "source": [
    "# your code/answer here\n",
    "print(a)\n",
    "print(d)\n",
    "#se ha sumado 1 a todos los valores"
   ]
  },
  {
   "cell_type": "markdown",
   "metadata": {},
   "source": [
    "#### 12. Multiply *a* and *c*. Assign the result to *e*."
   ]
  },
  {
   "cell_type": "code",
   "execution_count": 53,
   "metadata": {
    "ExecuteTime": {
     "end_time": "2020-01-26T13:25:01.215811Z",
     "start_time": "2020-01-26T13:25:01.207428Z"
    }
   },
   "outputs": [
    {
     "name": "stdout",
     "output_type": "stream",
     "text": [
      "[[[0.42795812 0.03763864 0.38003601 0.92157892 0.76976673]\n",
      "  [0.69752361 0.0445142  0.04856331 0.68484853 0.22284287]\n",
      "  [0.33983187 0.13100526 0.64201649 0.25433635 0.37794724]]\n",
      "\n",
      " [[0.91126348 0.97242905 0.53377144 0.05769512 0.44165983]\n",
      "  [0.99993925 0.14445463 0.06038531 0.66664041 0.84209669]\n",
      "  [0.8647306  0.21836539 0.11375887 0.35736477 0.70996019]]]\n"
     ]
    }
   ],
   "source": [
    "# your code here\n",
    "e=a*c\n",
    "print(e)"
   ]
  },
  {
   "cell_type": "markdown",
   "metadata": {},
   "source": [
    "#### 13. Does *e* equal to *a*? Why or why not?\n"
   ]
  },
  {
   "cell_type": "code",
   "execution_count": 54,
   "metadata": {
    "ExecuteTime": {
     "end_time": "2020-01-26T13:25:41.918505Z",
     "start_time": "2020-01-26T13:25:41.910764Z"
    }
   },
   "outputs": [
    {
     "name": "stdout",
     "output_type": "stream",
     "text": [
      "[[[ True  True  True  True  True]\n",
      "  [ True  True  True  True  True]\n",
      "  [ True  True  True  True  True]]\n",
      "\n",
      " [[ True  True  True  True  True]\n",
      "  [ True  True  True  True  True]\n",
      "  [ True  True  True  True  True]]]\n"
     ]
    }
   ],
   "source": [
    "# your code/answer here\n",
    "print(e==a)\n",
    "#Es igual porque se han multiplicado los valores por 1"
   ]
  },
  {
   "cell_type": "markdown",
   "metadata": {},
   "source": [
    "#### 14. Identify the max, min, and mean values in *d*. Assign those values to variables *d_max*, *d_min* and *d_mean*."
   ]
  },
  {
   "cell_type": "code",
   "execution_count": 56,
   "metadata": {
    "ExecuteTime": {
     "end_time": "2020-01-26T13:28:17.766986Z",
     "start_time": "2020-01-26T13:28:17.758956Z"
    }
   },
   "outputs": [
    {
     "name": "stdout",
     "output_type": "stream",
     "text": [
      "1.9999392452237452\n",
      "1.0376386424269897\n",
      "1.462497438886556\n"
     ]
    }
   ],
   "source": [
    "# your code here\n",
    "d_max=d.max()\n",
    "d_min=d.min()\n",
    "d_mean=d.mean()\n",
    "print(d_max)\n",
    "print(d_min)\n",
    "print(d_mean)"
   ]
  },
  {
   "cell_type": "markdown",
   "metadata": {},
   "source": [
    "#### 15. Now we want to label the values in *d*. First create an empty array *f* with the same shape (i.e. 2x3x5) as *d* using `np.empty`.\n"
   ]
  },
  {
   "cell_type": "code",
   "execution_count": 65,
   "metadata": {
    "ExecuteTime": {
     "end_time": "2020-01-26T13:32:54.605862Z",
     "start_time": "2020-01-26T13:32:54.593747Z"
    }
   },
   "outputs": [
    {
     "name": "stdout",
     "output_type": "stream",
     "text": [
      "[[[0.42795812 0.03763864 0.38003601 0.92157892 0.76976673]\n",
      "  [0.69752361 0.0445142  0.04856331 0.68484853 0.22284287]\n",
      "  [0.33983187 0.13100526 0.64201649 0.25433635 0.37794724]]\n",
      "\n",
      " [[0.91126348 0.97242905 0.53377144 0.05769512 0.44165983]\n",
      "  [0.99993925 0.14445463 0.06038531 0.66664041 0.84209669]\n",
      "  [0.8647306  0.21836539 0.11375887 0.35736477 0.70996019]]]\n"
     ]
    }
   ],
   "source": [
    "# your code here\n",
    "f=np.empty((2,3,5))\n",
    "print(f)"
   ]
  },
  {
   "cell_type": "markdown",
   "metadata": {},
   "source": [
    "#### 16. Populate the values in *f*. \n",
    "\n",
    "For each value in *d*, if it's larger than *d_min* but smaller than *d_mean*, assign 25 to the corresponding value in *f*. If a value in *d* is larger than *d_mean* but smaller than *d_max*, assign 75 to the corresponding value in *f*. If a value equals to *d_mean*, assign 50 to the corresponding value in *f*. Assign 0 to the corresponding value(s) in *f* for *d_min* in *d*. Assign 100 to the corresponding value(s) in *f* for *d_max* in *d*. In the end, f should have only the following values: 0, 25, 50, 75, and 100.\n",
    "\n",
    "**Note**: you don't have to use Numpy in this question."
   ]
  },
  {
   "cell_type": "code",
   "execution_count": 98,
   "metadata": {
    "ExecuteTime": {
     "end_time": "2020-01-26T14:33:56.115942Z",
     "start_time": "2020-01-26T14:33:56.104105Z"
    }
   },
   "outputs": [
    {
     "name": "stdout",
     "output_type": "stream",
     "text": [
      "[[[ 25   0  25  75  75]\n",
      "  [ 75  25  25  75  25]\n",
      "  [ 25  25  75  25  25]]\n",
      "\n",
      " [[ 75  75  75  25  25]\n",
      "  [100  25  25  75  75]\n",
      "  [ 75  25  25  25  75]]]\n"
     ]
    }
   ],
   "source": [
    "# your code here\n",
    "f=np.where((d>d_min) & (d<d_mean), 25, np.where((d>d_mean) & (d<d_max), 75, np.where(d==d_mean, 50, np.where(d<=d_min, 0, 100))))\n",
    "print(f)"
   ]
  },
  {
   "cell_type": "markdown",
   "metadata": {},
   "source": [
    "#### 17. Print *d* and *f*. Do you have your expected *f*?\n",
    "For instance, if your *d* is:\n",
    "```python\n",
    "[[[1.85836099, 1.67064465, 1.62576044, 1.40243961, 1.88454931],\n",
    "[1.75354326, 1.69403643, 1.36729252, 1.61415071, 1.12104981],\n",
    "[1.72201435, 1.1862918 , 1.87078449, 1.7726778 , 1.88180042]],\n",
    "[[1.44747908, 1.31673383, 1.02000951, 1.52218947, 1.97066381],\n",
    "[1.79129243, 1.74983003, 1.96028037, 1.85166831, 1.65450881],\n",
    "[1.18068344, 1.9587381 , 1.00656599, 1.93402165, 1.73514584]]]\n",
    "```\n",
    "Your *f* should be:\n",
    "```python\n",
    "[[[ 75.,  75.,  75.,  25.,  75.],\n",
    "[ 75.,  75.,  25.,  25.,  25.],\n",
    "[ 75.,  25.,  75.,  75.,  75.]],\n",
    "[[ 25.,  25.,  25.,  25., 100.],\n",
    "[ 75.,  75.,  75.,  75.,  75.],\n",
    "[ 25.,  75.,   0.,  75.,  75.]]]\n",
    "```"
   ]
  },
  {
   "cell_type": "code",
   "execution_count": 99,
   "metadata": {
    "ExecuteTime": {
     "end_time": "2020-01-26T14:34:39.092634Z",
     "start_time": "2020-01-26T14:34:39.084978Z"
    }
   },
   "outputs": [
    {
     "name": "stdout",
     "output_type": "stream",
     "text": [
      "[[[1.42795812 1.03763864 1.38003601 1.92157892 1.76976673]\n",
      "  [1.69752361 1.0445142  1.04856331 1.68484853 1.22284287]\n",
      "  [1.33983187 1.13100526 1.64201649 1.25433635 1.37794724]]\n",
      "\n",
      " [[1.91126348 1.97242905 1.53377144 1.05769512 1.44165983]\n",
      "  [1.99993925 1.14445463 1.06038531 1.66664041 1.84209669]\n",
      "  [1.8647306  1.21836539 1.11375887 1.35736477 1.70996019]]]\n",
      "[[[ 25   0  25  75  75]\n",
      "  [ 75  25  25  75  25]\n",
      "  [ 25  25  75  25  25]]\n",
      "\n",
      " [[ 75  75  75  25  25]\n",
      "  [100  25  25  75  75]\n",
      "  [ 75  25  25  25  75]]]\n"
     ]
    }
   ],
   "source": [
    "# your code here\n",
    "print(d)\n",
    "print(f)"
   ]
  },
  {
   "cell_type": "markdown",
   "metadata": {},
   "source": [
    "#### 18. Bonus question: instead of using numbers (i.e. 0, 25, 50, 75, and 100), use string values  (\"A\", \"B\", \"C\", \"D\", and \"E\") to label the array elements. For the example above, the expected result is:\n",
    "\n",
    "```python\n",
    "[[[ 'D',  'D',  'D',  'B',  'D'],\n",
    "[ 'D',  'D',  'B',  'B',  'B'],\n",
    "[ 'D',  'B',  'D',  'D',  'D']],\n",
    "[[ 'B',  'B',  'B',  'B',  'E'],\n",
    "[ 'D',  'D',  'D',  'D',  'D'],\n",
    "[ 'B',  'D',   'A',  'D', 'D']]]\n",
    "```\n",
    "**Note**: you don't have to use Numpy in this question."
   ]
  },
  {
   "cell_type": "code",
   "execution_count": 100,
   "metadata": {
    "ExecuteTime": {
     "end_time": "2020-01-26T14:36:48.298173Z",
     "start_time": "2020-01-26T14:36:48.290603Z"
    }
   },
   "outputs": [
    {
     "name": "stdout",
     "output_type": "stream",
     "text": [
      "[[['B' 'A' 'B' 'D' 'D']\n",
      "  ['D' 'B' 'B' 'D' 'B']\n",
      "  ['B' 'B' 'D' 'B' 'B']]\n",
      "\n",
      " [['D' 'D' 'D' 'B' 'B']\n",
      "  ['D' 'B' 'B' 'D' 'D']\n",
      "  ['D' 'B' 'B' 'B' 'D']]]\n"
     ]
    }
   ],
   "source": [
    "# your code here\n",
    "g=np.where((d>d_min) & (d<d_mean), 'B', np.where((d>d_mean) & (d<d_max), 'D', np.where(d==d_mean, 'C', np.where(d<=d_min, 'A', 'D'))))"
   ]
  },
  {
   "cell_type": "code",
   "execution_count": 101,
   "metadata": {
    "ExecuteTime": {
     "end_time": "2020-01-26T14:38:34.310350Z",
     "start_time": "2020-01-26T14:38:34.302199Z"
    }
   },
   "outputs": [
    {
     "name": "stdout",
     "output_type": "stream",
     "text": [
      "[[['B' 'A' 'B' 'D' 'D']\n",
      "  ['D' 'B' 'B' 'D' 'B']\n",
      "  ['B' 'B' 'D' 'B' 'B']]\n",
      "\n",
      " [['D' 'D' 'D' 'B' 'B']\n",
      "  ['D' 'B' 'B' 'D' 'D']\n",
      "  ['D' 'B' 'B' 'B' 'D']]]\n"
     ]
    }
   ],
   "source": [
    "print(g)"
   ]
  },
  {
   "cell_type": "code",
   "execution_count": null,
   "metadata": {},
   "outputs": [],
   "source": []
  }
 ],
 "metadata": {
  "kernelspec": {
   "display_name": "Python 3",
   "language": "python",
   "name": "python3"
  },
  "language_info": {
   "codemirror_mode": {
    "name": "ipython",
    "version": 3
   },
   "file_extension": ".py",
   "mimetype": "text/x-python",
   "name": "python",
   "nbconvert_exporter": "python",
   "pygments_lexer": "ipython3",
   "version": "3.7.1"
  },
  "latex_envs": {
   "LaTeX_envs_menu_present": true,
   "autoclose": false,
   "autocomplete": true,
   "bibliofile": "biblio.bib",
   "cite_by": "apalike",
   "current_citInitial": 1,
   "eqLabelWithNumbers": true,
   "eqNumInitial": 1,
   "hotkeys": {
    "equation": "Ctrl-E",
    "itemize": "Ctrl-I"
   },
   "labels_anchors": false,
   "latex_user_defs": false,
   "report_style_numbering": false,
   "user_envs_cfg": false
  },
  "toc": {
   "base_numbering": 1,
   "nav_menu": {},
   "number_sections": true,
   "sideBar": true,
   "skip_h1_title": false,
   "title_cell": "Table of Contents",
   "title_sidebar": "Contents",
   "toc_cell": false,
   "toc_position": {},
   "toc_section_display": true,
   "toc_window_display": false
  },
  "varInspector": {
   "cols": {
    "lenName": 16,
    "lenType": 16,
    "lenVar": 40
   },
   "kernels_config": {
    "python": {
     "delete_cmd_postfix": "",
     "delete_cmd_prefix": "del ",
     "library": "var_list.py",
     "varRefreshCmd": "print(var_dic_list())"
    },
    "r": {
     "delete_cmd_postfix": ") ",
     "delete_cmd_prefix": "rm(",
     "library": "var_list.r",
     "varRefreshCmd": "cat(var_dic_list()) "
    }
   },
   "types_to_exclude": [
    "module",
    "function",
    "builtin_function_or_method",
    "instance",
    "_Feature"
   ],
   "window_display": false
  }
 },
 "nbformat": 4,
 "nbformat_minor": 2
}
